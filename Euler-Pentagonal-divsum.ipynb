{
 "cells": [
  {
   "cell_type": "markdown",
   "metadata": {},
   "source": [
    "**Relation between recurrence formula of divisor sum function and coefficients of Pentagonal Theorem, discovered by Euler**"
   ]
  },
  {
   "cell_type": "code",
   "execution_count": 1,
   "metadata": {},
   "outputs": [
    {
     "name": "stdout",
     "output_type": "stream",
     "text": [
      "To load \"drakma\":\n",
      "  Load 1 ASDF system:\n",
      "    drakma\n",
      "\n",
      "; Loading \"drakma\"\n",
      "...\n",
      "To load \"maxima-asdf\":\n",
      "  Load 1 ASDF system:\n",
      "    maxima-asdf\n"
     ]
    },
    {
     "data": {
      "text/plain": [
       "(:MAXIMA-ASDF)"
      ]
     },
     "execution_count": 1,
     "metadata": {},
     "output_type": "execute_result"
    },
    {
     "name": "stdout",
     "output_type": "stream",
     "text": [
      "\n",
      "; Loading \"maxima-asdf\"\n",
      "\n"
     ]
    }
   ],
   "source": [
    ":lisp (progn (ql:quickload :drakma)(ql:quickload :maxima-asdf))"
   ]
  },
  {
   "cell_type": "code",
   "execution_count": 2,
   "metadata": {},
   "outputs": [
    {
     "data": {
      "text/latex": [
       "\\[\\tag{${\\it \\%o}_{2}$}\\left[ \\mbox{ /home/honda/quicklisp/dists/quicklisp/archives/qsexpand-master.gz } , \\mbox{ /home/honda/quicklisp/local-projects/YasuakiHonda-qsexpand-788a922/ } \\right] \\]"
      ],
      "text/plain": [
       "(%o2) [/home/honda/quicklisp/dists/quicklisp/archives/qsexpand-master.gz, \n",
       "           /home/honda/quicklisp/local-projects/YasuakiHonda-qsexpand-788a922/]"
      ],
      "text/x-maxima": [
       "[\"/home/honda/quicklisp/dists/quicklisp/archives/qsexpand-master.gz\",\n",
       " \"/home/honda/quicklisp/local-projects/YasuakiHonda-qsexpand-788a922/\"]"
      ]
     },
     "execution_count": 2,
     "metadata": {},
     "output_type": "execute_result"
    }
   ],
   "source": [
    "install_github(\"YasuakiHonda\",\"qsexpand\",\"master\");"
   ]
  },
  {
   "cell_type": "code",
   "execution_count": 3,
   "metadata": {},
   "outputs": [
    {
     "data": {
      "text/latex": [
       "\\[\\tag{${\\it \\%o}_{3}$}\\mathbf{true}\\]"
      ],
      "text/plain": [
       "(%o3)                                true"
      ],
      "text/x-maxima": [
       "true"
      ]
     },
     "execution_count": 3,
     "metadata": {},
     "output_type": "execute_result"
    },
    {
     "name": "stdout",
     "output_type": "stream",
     "text": [
      "\n",
      "; compiling (DEFMVAR $QSEXPAND_COEFF_ARRAY ...)\n",
      "; compiling (MFUNCALL (QUOTE $MATCHDECLARE) ...)\n",
      "; compiling (MFUNCALL (QUOTE $DEFMATCH) ...)\n",
      "; compiling (DEFUN TERMLIST ...)\n",
      "; compiling (DEFUN $QSEXPAND ...)\n",
      "; compiling (DEFCLASS ARRAYPOLYNOMIAL ...)\n",
      "; compiling (DEFMETHOD INITAP ...)\n",
      "; compiling (DEFMETHOD INC-COEFF ...)\n",
      "; compiling (DEFMETHOD SIZEOF ...)\n",
      "; compiling (DEFMETHOD INIT-TO-ONE ...)\n",
      "; compiling (DEFMETHOD INIT-TO-Q ...)\n",
      "; compiling (DEFMETHOD TO-MAXIMA-POLY ...)\n",
      "; compiling (DEFCLASS QUNITPOLYNOMIAL ...)\n",
      "; compiling (DEFMETHOD SIZEOF ...)\n",
      "; compiling (DEFMETHOD DEGREE ...)\n",
      "; compiling (DEFMETHOD INIT-Q-POLY ...)\n",
      "; compiling (DEFMETHOD PROD ...)"
     ]
    }
   ],
   "source": [
    "asdf_load(\"qsexpand\");"
   ]
  },
  {
   "cell_type": "code",
   "execution_count": 4,
   "metadata": {},
   "outputs": [
    {
     "data": {
      "text/latex": [
       "\\[\\tag{${\\it \\%o}_{4}$}\\prod_{n=1}^{\\infty }{\\left(1-q^{n}\\right)}\\]"
      ],
      "text/plain": [
       "                                 inf\n",
       "                                /===\\\n",
       "                                 ! !        n\n",
       "(%o4)                            ! !  (1 - q )\n",
       "                                 ! !\n",
       "                                n = 1"
      ],
      "text/x-maxima": [
       "'product(1-q^n,n,1,inf)"
      ]
     },
     "execution_count": 4,
     "metadata": {},
     "output_type": "execute_result"
    }
   ],
   "source": [
    "qpoly1:product((1-q^n),n,1,inf);"
   ]
  },
  {
   "cell_type": "code",
   "execution_count": 5,
   "metadata": {},
   "outputs": [
    {
     "data": {
      "text/latex": [
       "\\[\\tag{${\\it \\%o}_{5}$}\\mathbf{true}\\]"
      ],
      "text/plain": [
       "(%o5)                                true"
      ],
      "text/x-maxima": [
       "true"
      ]
     },
     "execution_count": 5,
     "metadata": {},
     "output_type": "execute_result"
    }
   ],
   "source": [
    "powerdisp:true;"
   ]
  },
  {
   "cell_type": "code",
   "execution_count": 6,
   "metadata": {},
   "outputs": [
    {
     "data": {
      "text/latex": [
       "\\[\\tag{${\\it \\%o}_{6}$}1-q-q^2+q^5+q^7-q^{12}-q^{15}+q^{22}+q^{26}-q^{35}-q^{40}+q^{51}+q^{57}-q^{70}-q^{77}+q^{92}\\]"
      ],
      "text/plain": [
       "               2    5    7    12    15    22    26    35    40    51    57\n",
       "(%o6) 1 - q - q  + q  + q  - q   - q   + q   + q   - q   - q   + q   + q\n",
       "                                                                 70    77    92\n",
       "                                                              - q   - q   + q"
      ],
      "text/x-maxima": [
       "1-q-q^2+q^5+q^7-q^12-q^15+q^22+q^26-q^35-q^40+q^51+q^57-q^70-q^77+q^92"
      ]
     },
     "execution_count": 6,
     "metadata": {},
     "output_type": "execute_result"
    }
   ],
   "source": [
    "qsexpand(qpoly1,100);"
   ]
  },
  {
   "cell_type": "code",
   "execution_count": 7,
   "metadata": {},
   "outputs": [
    {
     "data": {
      "text/latex": [
       "\\[\\tag{${\\it \\%o}_{7}$}40\\]"
      ],
      "text/plain": [
       "(%o7)                                 40"
      ],
      "text/x-maxima": [
       "40"
      ]
     },
     "execution_count": 7,
     "metadata": {},
     "output_type": "execute_result"
    }
   ],
   "source": [
    "divsum(27);"
   ]
  },
  {
   "cell_type": "code",
   "execution_count": 8,
   "metadata": {},
   "outputs": [
    {
     "data": {
      "text/latex": [
       "\\[\\tag{${\\it \\%o}_{8}$}40\\]"
      ],
      "text/plain": [
       "(%o8)                                 40"
      ],
      "text/x-maxima": [
       "40"
      ]
     },
     "execution_count": 8,
     "metadata": {},
     "output_type": "execute_result"
    }
   ],
   "source": [
    "divsum(27-1)+divsum(27-2)-divsum(27-5)-divsum(27-7)+divsum(27-12)+divsum(27-15)-divsum(27-22)-divsum(27-26);"
   ]
  },
  {
   "cell_type": "code",
   "execution_count": 9,
   "metadata": {},
   "outputs": [
    {
     "data": {
      "text/latex": [
       "\\[\\tag{${\\it \\%o}_{9}$}72\\]"
      ],
      "text/plain": [
       "(%o9)                                 72"
      ],
      "text/x-maxima": [
       "72"
      ]
     },
     "execution_count": 9,
     "metadata": {},
     "output_type": "execute_result"
    }
   ],
   "source": [
    "divsum(51);"
   ]
  },
  {
   "cell_type": "code",
   "execution_count": 10,
   "metadata": {},
   "outputs": [
    {
     "data": {
      "text/latex": [
       "\\[\\tag{${\\it \\%o}_{10}$}72\\]"
      ],
      "text/plain": [
       "(%o10)                                72"
      ],
      "text/x-maxima": [
       "72"
      ]
     },
     "execution_count": 10,
     "metadata": {},
     "output_type": "execute_result"
    }
   ],
   "source": [
    "divsum(51-1)+divsum(51-2)-divsum(51-5)-divsum(51-7)+divsum(51-12)+divsum(51-15)-divsum(51-22)-divsum(51-26) + divsum(51-35) + divsum(51-40) - 51;"
   ]
  },
  {
   "cell_type": "code",
   "execution_count": 11,
   "metadata": {},
   "outputs": [
    {
     "data": {
      "text/latex": [
       "\\[\\tag{${\\it \\%o}_{11}$}P\\left(q\\right)=\\prod_{n=1}^{\\infty }{\\left(1-q^{n}\\right)}\\]"
      ],
      "text/plain": [
       "                                     inf\n",
       "                                    /===\\\n",
       "                                     ! !        n\n",
       "(%o11)                       P(q) =  ! !  (1 - q )\n",
       "                                     ! !\n",
       "                                    n = 1"
      ],
      "text/x-maxima": [
       "P(q) = 'product(1-q^n,n,1,inf)"
      ]
     },
     "execution_count": 11,
     "metadata": {},
     "output_type": "execute_result"
    }
   ],
   "source": [
    "P(q)=qpoly1;"
   ]
  },
  {
   "cell_type": "code",
   "execution_count": 12,
   "metadata": {},
   "outputs": [
    {
     "data": {
      "text/latex": [
       "\\[\\tag{${\\it \\%o}_{12}$}\\log P\\left(q\\right)=\\log \\prod_{n=1}^{\\infty }{\\left(1-q^{n}\\right)}\\]"
      ],
      "text/plain": [
       "                                         inf\n",
       "                                        /===\\\n",
       "                                         ! !        n\n",
       "(%o12)                  log(P(q)) = log( ! !  (1 - q ))\n",
       "                                         ! !\n",
       "                                        n = 1"
      ],
      "text/x-maxima": [
       "log(P(q)) = log('product(1-q^n,n,1,inf))"
      ]
     },
     "execution_count": 12,
     "metadata": {},
     "output_type": "execute_result"
    }
   ],
   "source": [
    "log(P(q))=log(qpoly1);"
   ]
  },
  {
   "cell_type": "code",
   "execution_count": 13,
   "metadata": {},
   "outputs": [
    {
     "data": {
      "text/latex": [
       "\\[\\tag{${\\it \\%o}_{13}$}\\log P\\left(q\\right)=\\sum_{n=1}^{\\infty }{\\log \\left(1-q^{n}\\right)}\\]"
      ],
      "text/plain": [
       "                                     inf\n",
       "                                     ====\n",
       "                                     \\              n\n",
       "(%o13)                   log(P(q)) =  >    log(1 - q )\n",
       "                                     /\n",
       "                                     ====\n",
       "                                     n = 1"
      ],
      "text/x-maxima": [
       "log(P(q)) = 'sum(log(1-q^n),n,1,inf)"
      ]
     },
     "execution_count": 13,
     "metadata": {},
     "output_type": "execute_result"
    }
   ],
   "source": [
    "logP:log(P(q))=sum(log(1-q^n),n,1,inf);"
   ]
  },
  {
   "cell_type": "code",
   "execution_count": 14,
   "metadata": {},
   "outputs": [
    {
     "data": {
      "text/latex": [
       "\\[\\tag{${\\it \\%o}_{14}$}-\\sum_{i_{1}=1}^{\\infty }{\\frac{q^{i_{1}\\,n}}{i_{1}}}\\]"
      ],
      "text/plain": [
       "                                  inf\n",
       "                                  ====    i1 n\n",
       "                                  \\      q\n",
       "(%o14)                          -  >     -----\n",
       "                                  /       i1\n",
       "                                  ====\n",
       "                                  i1 = 1"
      ],
      "text/x-maxima": [
       "-'sum(q^(i1*n)/i1,i1,1,inf)"
      ]
     },
     "execution_count": 14,
     "metadata": {},
     "output_type": "execute_result"
    }
   ],
   "source": [
    "logP21:powerseries(part(%,2,1),q,0);"
   ]
  },
  {
   "cell_type": "code",
   "execution_count": 15,
   "metadata": {},
   "outputs": [
    {
     "data": {
      "text/latex": [
       "\\[\\tag{${\\it \\%o}_{15}$}-\\sum_{m=1}^{\\infty }{\\frac{q^{m\\,n}}{m}}\\]"
      ],
      "text/plain": [
       "                                   inf\n",
       "                                   ====   m n\n",
       "                                   \\     q\n",
       "(%o15)                           -  >    ----\n",
       "                                   /      m\n",
       "                                   ====\n",
       "                                   m = 1"
      ],
      "text/x-maxima": [
       "-'sum(q^(m*n)/m,m,1,inf)"
      ]
     },
     "execution_count": 15,
     "metadata": {},
     "output_type": "execute_result"
    }
   ],
   "source": [
    "logP21:block([niceindicespref:[m]],niceindices(logP21));"
   ]
  },
  {
   "cell_type": "code",
   "execution_count": 16,
   "metadata": {},
   "outputs": [
    {
     "data": {
      "text/latex": [
       "\\[\\tag{${\\it \\%o}_{16}$}\\sum_{m=1}^{\\infty }{\\left(-n\\,q^{m\\,n}\\right)}\\]"
      ],
      "text/plain": [
       "                               inf\n",
       "                               ====\n",
       "                               \\           m n\n",
       "(%o16)                          >    (- n q   )\n",
       "                               /\n",
       "                               ====\n",
       "                               m = 1"
      ],
      "text/x-maxima": [
       "'sum(-n*q^(m*n),m,1,inf)"
      ]
     },
     "execution_count": 16,
     "metadata": {},
     "output_type": "execute_result"
    }
   ],
   "source": [
    "qdlogP21:intosum(q*diff(logP21,q));"
   ]
  },
  {
   "cell_type": "code",
   "execution_count": 17,
   "metadata": {},
   "outputs": [
    {
     "data": {
      "text/latex": [
       "\\[\\tag{${\\it \\%o}_{17}$}\\frac{q\\,\\left(\\frac{d}{d\\,q}\\,P\\left(q\\right)\\right)}{P\\left(q\\right)}=-\\sum_{n=1}^{\\infty }{n\\,\\sum_{m=1}^{\\infty }{q^{m\\,n}}}\\]"
      ],
      "text/plain": [
       "                        d              inf     inf\n",
       "                     q (-- (P(q)))     ====    ====\n",
       "                        dq             \\       \\      m n\n",
       "(%o17)               ------------- = -  >    n  >    q\n",
       "                         P(q)          /       /\n",
       "                                       ====    ====\n",
       "                                       n = 1   m = 1"
      ],
      "text/x-maxima": [
       "(q*'diff(P(q),q,1))/P(q) = -'sum(n*'sum(q^(m*n),m,1,inf),n,1,inf)"
      ]
     },
     "execution_count": 17,
     "metadata": {},
     "output_type": "execute_result"
    }
   ],
   "source": [
    "qdlogP:q*diff(lhs(logP),q)=substpart(qdlogP21,rhs(logP),1);"
   ]
  },
  {
   "cell_type": "code",
   "execution_count": 18,
   "metadata": {},
   "outputs": [
    {
     "data": {
      "text/latex": [
       "\\[\\tag{${\\it \\%o}_{18}$}q+3\\,q^2+4\\,q^3+7\\,q^4+6\\,q^5+12\\,q^6+8\\,q^7+15\\,q^8+13\\,q^9+18\\,q^{10}\\]"
      ],
      "text/plain": [
       "              2      3      4      5       6      7       8       9       10\n",
       "(%o18) q + 3 q  + 4 q  + 7 q  + 6 q  + 12 q  + 8 q  + 15 q  + 13 q  + 18 q"
      ],
      "text/x-maxima": [
       "q+3*q^2+4*q^3+7*q^4+6*q^5+12*q^6+8*q^7+15*q^8+13*q^9+18*q^10"
      ]
     },
     "execution_count": 18,
     "metadata": {},
     "output_type": "execute_result"
    }
   ],
   "source": [
    "firstn(ev(sum(sum(n*q^(m*n),m,1,N),n,1,N),N:10),10);"
   ]
  },
  {
   "cell_type": "code",
   "execution_count": 19,
   "metadata": {},
   "outputs": [
    {
     "data": {
      "text/latex": [
       "\\[\\tag{${\\it \\%o}_{19}$}q+3\\,q^2+4\\,q^3+7\\,q^4+6\\,q^5+12\\,q^6+8\\,q^7+15\\,q^8+13\\,q^9+18\\,q^{10}\\]"
      ],
      "text/plain": [
       "              2      3      4      5       6      7       8       9       10\n",
       "(%o19) q + 3 q  + 4 q  + 7 q  + 6 q  + 12 q  + 8 q  + 15 q  + 13 q  + 18 q"
      ],
      "text/x-maxima": [
       "q+3*q^2+4*q^3+7*q^4+6*q^5+12*q^6+8*q^7+15*q^8+13*q^9+18*q^10"
      ]
     },
     "execution_count": 19,
     "metadata": {},
     "output_type": "execute_result"
    }
   ],
   "source": [
    "sum(divsum(n)*q^(n),n,1,10);"
   ]
  },
  {
   "cell_type": "code",
   "execution_count": 20,
   "metadata": {},
   "outputs": [],
   "source": [
    "(texput(divsum,\"\\\\sigma\"), powerdisp:false)$"
   ]
  },
  {
   "cell_type": "code",
   "execution_count": 21,
   "metadata": {},
   "outputs": [
    {
     "data": {
      "text/latex": [
       "\\[\\tag{${\\it \\%o}_{21}$}\\frac{q\\,\\left(\\frac{d}{d\\,q}\\,P\\left(q\\right)\\right)}{P\\left(q\\right)}=-\\sum_{n=1}^{\\infty }{\\sigma\\left(n , 1\\right)\\,q^{n}}\\]"
      ],
      "text/plain": [
       "                       d              inf\n",
       "                    q (-- (P(q)))     ====\n",
       "                       dq             \\                   n\n",
       "(%o21)              ------------- = -  >    divsum(n, 1) q\n",
       "                        P(q)          /\n",
       "                                      ====\n",
       "                                      n = 1"
      ],
      "text/x-maxima": [
       "(q*'diff(P(q),q,1))/P(q) = -'sum(divsum(n,1)*q^n,n,1,inf)"
      ]
     },
     "execution_count": 21,
     "metadata": {},
     "output_type": "execute_result"
    }
   ],
   "source": [
    "substpart(divsum(n)*q^n,qdlogP,2,1,1);"
   ]
  },
  {
   "cell_type": "code",
   "execution_count": 22,
   "metadata": {},
   "outputs": [
    {
     "data": {
      "text/latex": [
       "\\[\\tag{${\\it \\%o}_{22}$}q\\,\\left(\\frac{d}{d\\,q}\\,P\\left(q\\right)\\right)=-P\\left(q\\right)\\,\\sum_{n=1}^{\\infty }{\\sigma\\left(n , 1\\right)\\,q^{n}}\\]"
      ],
      "text/plain": [
       "                                        inf\n",
       "                                        ====\n",
       "                    d                   \\                   n\n",
       "(%o22)           q (-- (P(q))) = - P(q)  >    divsum(n, 1) q\n",
       "                    dq                  /\n",
       "                                        ====\n",
       "                                        n = 1"
      ],
      "text/x-maxima": [
       "q*'diff(P(q),q,1) = -P(q)*'sum(divsum(n,1)*q^n,n,1,inf)"
      ]
     },
     "execution_count": 22,
     "metadata": {},
     "output_type": "execute_result"
    }
   ],
   "source": [
    "%*P(q);"
   ]
  },
  {
   "cell_type": "code",
   "execution_count": 23,
   "metadata": {},
   "outputs": [
    {
     "data": {
      "text/latex": [
       "\\[\\tag{${\\it \\%o}_{23}$}\\sum_{m=0}^{\\infty }{a_{m}\\,q^{m}}\\]"
      ],
      "text/plain": [
       "                                  inf\n",
       "                                  ====\n",
       "                                  \\         m\n",
       "(%o23)                             >    a  q\n",
       "                                  /      m\n",
       "                                  ====\n",
       "                                  m = 0"
      ],
      "text/x-maxima": [
       "'sum(a[m]*q^m,m,0,inf)"
      ]
     },
     "execution_count": 23,
     "metadata": {},
     "output_type": "execute_result"
    }
   ],
   "source": [
    "Pq:sum(a[m]*q^m,m,0,inf);"
   ]
  },
  {
   "cell_type": "code",
   "execution_count": 24,
   "metadata": {},
   "outputs": [
    {
     "data": {
      "text/latex": [
       "\\[\\tag{${\\it \\%o}_{24}$}\\sum_{m=0}^{\\infty }{m\\,a_{m}\\,q^{m}}\\]"
      ],
      "text/plain": [
       "                                 inf\n",
       "                                 ====\n",
       "                                 \\           m\n",
       "(%o24)                            >    m a  q\n",
       "                                 /        m\n",
       "                                 ====\n",
       "                                 m = 0"
      ],
      "text/x-maxima": [
       "'sum(m*a[m]*q^m,m,0,inf)"
      ]
     },
     "execution_count": 24,
     "metadata": {},
     "output_type": "execute_result"
    }
   ],
   "source": [
    "qdPq:substpart(q*diff(part(Pq,1),q),Pq,1);"
   ]
  },
  {
   "cell_type": "code",
   "execution_count": 25,
   "metadata": {},
   "outputs": [
    {
     "data": {
      "text/latex": [
       "\\[\\tag{${\\it \\%o}_{25}$}\\sum_{m=0}^{\\infty }{m\\,a_{m}\\,q^{m}}=-\\left(\\sum_{m=0}^{\\infty }{a_{m}\\,q^{m}}\\right)\\,\\sum_{n=1}^{\\infty }{\\sigma\\left(n , 1\\right)\\,q^{n}}\\]"
      ],
      "text/plain": [
       "             inf                inf          inf\n",
       "             ====               ====         ====\n",
       "             \\           m      \\         m  \\                   n\n",
       "(%o25)        >    m a  q  = - ( >    a  q )  >    divsum(n, 1) q\n",
       "             /        m         /      m     /\n",
       "             ====               ====         ====\n",
       "             m = 0              m = 0        n = 1"
      ],
      "text/x-maxima": [
       "'sum(m*a[m]*q^m,m,0,inf) = -('sum(a[m]*q^m,m,0,inf))\n",
       "                         *'sum(divsum(n,1)*q^n,n,1,inf)"
      ]
     },
     "execution_count": 25,
     "metadata": {},
     "output_type": "execute_result"
    }
   ],
   "source": [
    "Q1:qdPq=-Pq*sum(divsum(n,1)*q^n,n,1,inf);"
   ]
  },
  {
   "cell_type": "code",
   "execution_count": 26,
   "metadata": {},
   "outputs": [
    {
     "data": {
      "text/latex": [
       "\\[\\tag{${\\it \\%o}_{26}$}\\sum_{m=0}^{\\infty }{m\\,a_{m}\\,q^{m}}=-\\sum_{i_{2}=1}^{\\infty }{\\sum_{i_{3}=0}^{i_{2}-1}{\\sigma\\left(i_{2}-i_{3} , 1\\right)\\,a_{i_{3}}\\,q^{i_{2}}}}\\]"
      ],
      "text/plain": [
       "          inf               inf    i2 - 1\n",
       "          ====              ====   ====\n",
       "          \\           m     \\      \\                              i2\n",
       "(%o26)     >    m a  q  = -  >      >     divsum(i2 - i3, 1) a   q\n",
       "          /        m        /      /                          i3\n",
       "          ====              ====   ====\n",
       "          m = 0             i2 = 1 i3 = 0"
      ],
      "text/x-maxima": [
       "'sum(m*a[m]*q^m,m,0,inf) = -'sum('sum(divsum(i2-i3,1)*a[i3]*q^i2,i3,0,i2-1),\n",
       "                                 i2,1,inf)"
      ]
     },
     "execution_count": 26,
     "metadata": {},
     "output_type": "execute_result"
    }
   ],
   "source": [
    "Q2:Q1,sumexpand:true,cauchysum:true;"
   ]
  },
  {
   "cell_type": "code",
   "execution_count": 27,
   "metadata": {},
   "outputs": [
    {
     "data": {
      "text/latex": [
       "\\[\\tag{${\\it \\%o}_{27}$}\\sum_{m=0}^{\\infty }{m\\,a_{m}\\,q^{m}}=-\\sum_{m=1}^{\\infty }{\\left(\\sum_{n=0}^{m-1}{\\sigma\\left(m-n , 1\\right)\\,a_{n}}\\right)\\,q^{m}}\\]"
      ],
      "text/plain": [
       "            inf               inf    m - 1\n",
       "            ====              ====   ====\n",
       "            \\           m     \\      \\                           m\n",
       "(%o27)       >    m a  q  = -  >    ( >    divsum(m - n, 1) a ) q\n",
       "            /        m        /      /                       n\n",
       "            ====              ====   ====\n",
       "            m = 0             m = 1  n = 0"
      ],
      "text/x-maxima": [
       "'sum(m*a[m]*q^m,m,0,inf) = -'sum(('sum(divsum(m-n,1)*a[n],n,0,m-1))*q^m,m,1,\n",
       "                                 inf)"
      ]
     },
     "execution_count": 27,
     "metadata": {},
     "output_type": "execute_result"
    }
   ],
   "source": [
    "Q3:lhs(Q2)=block([niceindicespref:[n,m]],niceindices(rhs(Q2)));"
   ]
  },
  {
   "cell_type": "code",
   "execution_count": 28,
   "metadata": {},
   "outputs": [
    {
     "data": {
      "text/latex": [
       "\\[\\tag{${\\it \\%o}_{28}$}m\\,a_{m}=-\\sum_{n=0}^{m-1}{\\sigma\\left(m-n , 1\\right)\\,a_{n}}\\]"
      ],
      "text/plain": [
       "                               m - 1\n",
       "                               ====\n",
       "                               \\\n",
       "(%o28)                m a  = -  >    divsum(m - n, 1) a\n",
       "                         m     /                       n\n",
       "                               ====\n",
       "                               n = 0"
      ],
      "text/x-maxima": [
       "m*a[m] = -'sum(divsum(m-n,1)*a[n],n,0,m-1)"
      ]
     },
     "execution_count": 28,
     "metadata": {},
     "output_type": "execute_result"
    }
   ],
   "source": [
    "cQ4:coeff(part(Q3,1,1),q^m)=-coeff(part(Q3,2,1,1),q^m);"
   ]
  },
  {
   "cell_type": "code",
   "execution_count": 29,
   "metadata": {},
   "outputs": [
    {
     "data": {
      "text/latex": [
       "\\[\\tag{${\\it \\%o}_{29}$}m\\,a_{m}=-\\sum_{n=1}^{m-1}{\\sigma\\left(m-n , 1\\right)\\,a_{n}}-a_{0}\\,\\sigma\\left(m , 1\\right)\\]"
      ],
      "text/plain": [
       "                      m - 1\n",
       "                      ====\n",
       "                      \\\n",
       "(%o29)      m a  = (-  >    divsum(m - n, 1) a ) - a  divsum(m, 1)\n",
       "               m      /                       n     0\n",
       "                      ====\n",
       "                      n = 1"
      ],
      "text/x-maxima": [
       "m*a[m] = (-'sum(divsum(m-n,1)*a[n],n,1,m-1))-a[0]*divsum(m,1)"
      ]
     },
     "execution_count": 29,
     "metadata": {},
     "output_type": "execute_result"
    }
   ],
   "source": [
    "cQ5:lhs(cQ4)=block([inn:part(cQ4,2,1,1)],-ev(inn,n:0)-sum(inn,n,1,m-1));"
   ]
  },
  {
   "cell_type": "code",
   "execution_count": 30,
   "metadata": {},
   "outputs": [
    {
     "data": {
      "text/latex": [
       "\\[\\tag{${\\it \\%o}_{30}$}\\left[ \\sigma\\left(m , 1\\right)=-\\sum_{n=1}^{m-1}{\\sigma\\left(m-n , 1\\right)\\,a_{n}}-m\\,a_{m} \\right] \\]"
      ],
      "text/plain": [
       "                                m - 1\n",
       "                                ====\n",
       "                                \\\n",
       "(%o30)       [divsum(m, 1) = (-  >    divsum(m - n, 1) a ) - m a ]\n",
       "                                /                       n       m\n",
       "                                ====\n",
       "                                n = 1"
      ],
      "text/x-maxima": [
       "[divsum(m,1) = (-'sum(divsum(m-n,1)*a[n],n,1,m-1))-m*a[m]]"
      ]
     },
     "execution_count": 30,
     "metadata": {},
     "output_type": "execute_result"
    }
   ],
   "source": [
    "final:solve(cQ5,divsum(m,1)),a[0]=1;"
   ]
  },
  {
   "cell_type": "code",
   "execution_count": 31,
   "metadata": {},
   "outputs": [
    {
     "data": {
      "text/latex": [
       "\\[\\tag{${\\it \\%o}_{31}$}1-q-q^2+q^5+q^7-q^{12}-q^{15}+q^{22}+q^{26}-q^{35}-q^{40}+q^{51}+q^{57}-q^{70}-q^{77}+q^{92}\\]"
      ],
      "text/plain": [
       "                2    5    7    12    15    22    26    35    40    51    57\n",
       "(%o31) 1 - q - q  + q  + q  - q   - q   + q   + q   - q   - q   + q   + q\n",
       "                                                                 70    77    92\n",
       "                                                              - q   - q   + q"
      ],
      "text/x-maxima": [
       "1-q-q^2+q^5+q^7-q^12-q^15+q^22+q^26-q^35-q^40+q^51+q^57-q^70-q^77+q^92"
      ]
     },
     "execution_count": 31,
     "metadata": {},
     "output_type": "execute_result"
    }
   ],
   "source": [
    "(powerdisp:true,qsexpand(qpoly1,100));"
   ]
  },
  {
   "cell_type": "code",
   "execution_count": 32,
   "metadata": {},
   "outputs": [
    {
     "data": {
      "text/latex": [
       "\\[\\tag{${\\it \\%o}_{32}$}\\mathbf{done}\\]"
      ],
      "text/plain": [
       "(%o32)                               done"
      ],
      "text/x-maxima": [
       "done"
      ]
     },
     "execution_count": 32,
     "metadata": {},
     "output_type": "execute_result"
    }
   ],
   "source": [
    "for i:1 step 1 thru 100 do a[i]:coeff(%,q,i);"
   ]
  },
  {
   "cell_type": "code",
   "execution_count": 33,
   "metadata": {},
   "outputs": [
    {
     "data": {
      "text/latex": [
       "\\[\\tag{${\\it \\%o}_{33}$}\\left[ 40=-\\sum_{n=1}^{26}{\\sigma\\left(27-n , 1\\right)\\,a_{n}} \\right] \\]"
      ],
      "text/plain": [
       "                               26\n",
       "                              ====\n",
       "                              \\\n",
       "(%o33)                [40 = -  >    divsum(27 - n, 1) a ]\n",
       "                              /                        n\n",
       "                              ====\n",
       "                              n = 1"
      ],
      "text/x-maxima": [
       "[40 = -'sum(divsum(27-n,1)*a[n],n,1,26)]"
      ]
     },
     "execution_count": 33,
     "metadata": {},
     "output_type": "execute_result"
    }
   ],
   "source": [
    "final,m:27;"
   ]
  },
  {
   "cell_type": "code",
   "execution_count": 34,
   "metadata": {},
   "outputs": [
    {
     "data": {
      "text/latex": [
       "\\[\\tag{${\\it \\%o}_{34}$}\\left[ 40=40 \\right] \\]"
      ],
      "text/plain": [
       "(%o34)                             [40 = 40]"
      ],
      "text/x-maxima": [
       "[40 = 40]"
      ]
     },
     "execution_count": 34,
     "metadata": {},
     "output_type": "execute_result"
    }
   ],
   "source": [
    "%,nouns;"
   ]
  },
  {
   "cell_type": "code",
   "execution_count": 35,
   "metadata": {},
   "outputs": [
    {
     "data": {
      "text/latex": [
       "\\[\\tag{${\\it \\%o}_{35}$}\\left[ 72=-51-\\sum_{n=1}^{50}{\\sigma\\left(51-n , 1\\right)\\,a_{n}} \\right] \\]"
      ],
      "text/plain": [
       "                                  50\n",
       "                                 ====\n",
       "                                 \\\n",
       "(%o35)            [72 = (- 51) -  >    divsum(51 - n, 1) a ]\n",
       "                                 /                        n\n",
       "                                 ====\n",
       "                                 n = 1"
      ],
      "text/x-maxima": [
       "[72 = (-51)-'sum(divsum(51-n,1)*a[n],n,1,50)]"
      ]
     },
     "execution_count": 35,
     "metadata": {},
     "output_type": "execute_result"
    }
   ],
   "source": [
    "final,m:51;"
   ]
  },
  {
   "cell_type": "code",
   "execution_count": 36,
   "metadata": {},
   "outputs": [
    {
     "data": {
      "text/latex": [
       "\\[\\tag{${\\it \\%o}_{36}$}\\left[ 72=72 \\right] \\]"
      ],
      "text/plain": [
       "(%o36)                             [72 = 72]"
      ],
      "text/x-maxima": [
       "[72 = 72]"
      ]
     },
     "execution_count": 36,
     "metadata": {},
     "output_type": "execute_result"
    }
   ],
   "source": [
    "%,nouns;"
   ]
  },
  {
   "cell_type": "code",
   "execution_count": null,
   "metadata": {},
   "outputs": [],
   "source": []
  }
 ],
 "metadata": {
  "kernelspec": {
   "display_name": "Maxima",
   "language": "maxima",
   "name": "maxima"
  },
  "language_info": {
   "codemirror_mode": "maxima",
   "file_extension": ".mac",
   "mimetype": "text/x-maxima",
   "name": "maxima",
   "pygments_lexer": "maxima",
   "version": "5.43.2"
  }
 },
 "nbformat": 4,
 "nbformat_minor": 4
}
